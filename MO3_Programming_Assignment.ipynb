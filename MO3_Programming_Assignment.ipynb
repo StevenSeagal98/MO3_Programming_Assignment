{
 "cells": [
  {
   "cell_type": "markdown",
   "id": "85e2b25c",
   "metadata": {},
   "source": [
    "<h1>7.4</h1>"
   ]
  },
  {
   "cell_type": "code",
   "execution_count": 7,
   "id": "086d04e2",
   "metadata": {},
   "outputs": [
    {
     "name": "stdout",
     "output_type": "stream",
     "text": [
      "Cinderella\n"
     ]
    }
   ],
   "source": [
    "things = ['mozzarella', 'cinderella', 'salmonella'];"
   ]
  },
  {
   "cell_type": "markdown",
   "id": "52b9f9e8",
   "metadata": {},
   "source": [
    "<h1>7.5</h1>"
   ]
  },
  {
   "cell_type": "code",
   "execution_count": 10,
   "id": "45515856",
   "metadata": {},
   "outputs": [
    {
     "name": "stdout",
     "output_type": "stream",
     "text": [
      "Cinderella\n"
     ]
    }
   ],
   "source": [
    "things = ['mozzarella', 'cinderella', 'salmonella'];\n",
    "for index, thing in enumerate(things):\n",
    "    if (thing == 'cinderella'):\n",
    "        things[index] = 'Cinderella'\n",
    "        print(things[index])"
   ]
  },
  {
   "cell_type": "markdown",
   "id": "e691f425",
   "metadata": {},
   "source": [
    "<h1>7.6</h1>"
   ]
  },
  {
   "cell_type": "code",
   "execution_count": 12,
   "id": "9dbfc4cf",
   "metadata": {},
   "outputs": [
    {
     "name": "stdout",
     "output_type": "stream",
     "text": [
      "MOZZARELLA\n"
     ]
    }
   ],
   "source": [
    "things = ['mozzarella', 'cinderella', 'salmonella'];\n",
    "for index, thing in enumerate(things):\n",
    "    if (thing == 'mozzarella'):\n",
    "        things[index] = things[index].upper();\n",
    "        print(things[index])"
   ]
  },
  {
   "cell_type": "markdown",
   "id": "5c80d84f",
   "metadata": {},
   "source": [
    "<h1>7.7</h1>"
   ]
  },
  {
   "cell_type": "code",
   "execution_count": 14,
   "id": "b9dd78e1",
   "metadata": {},
   "outputs": [
    {
     "name": "stdout",
     "output_type": "stream",
     "text": [
      "['mozzarella', 'cinderella']\n"
     ]
    }
   ],
   "source": [
    "things = ['mozzarella', 'cinderella', 'salmonella'];\n",
    "things.pop()\n",
    "print(things)"
   ]
  },
  {
   "cell_type": "markdown",
   "id": "3d37de04",
   "metadata": {},
   "source": [
    "<h1>9.1</h1>"
   ]
  },
  {
   "cell_type": "code",
   "execution_count": 16,
   "id": "5b206208",
   "metadata": {
    "scrolled": true
   },
   "outputs": [
    {
     "name": "stdout",
     "output_type": "stream",
     "text": [
      "['Harry', 'Ron', 'Hermione']\n"
     ]
    }
   ],
   "source": [
    "def good():\n",
    "    hp = ['Harry', 'Ron', 'Hermione'];\n",
    "    return hp\n",
    "\n",
    "print(good())"
   ]
  },
  {
   "cell_type": "markdown",
   "id": "bcfd93ce",
   "metadata": {},
   "source": [
    "<h1>9.2</h1>"
   ]
  },
  {
   "cell_type": "code",
   "execution_count": 35,
   "id": "3e6253a1",
   "metadata": {},
   "outputs": [
    {
     "name": "stdout",
     "output_type": "stream",
     "text": [
      "5\n"
     ]
    }
   ],
   "source": [
    "nums = []\n",
    "def get_odds():\n",
    "    for i in range(10): \n",
    "        if i % 2:\n",
    "            yield i\n",
    "            \n",
    "for index, i in enumerate(get_odds()):\n",
    "    if index == 2:\n",
    "        print(i)\n",
    "            "
   ]
  },
  {
   "cell_type": "code",
   "execution_count": null,
   "id": "aaabf049",
   "metadata": {},
   "outputs": [],
   "source": []
  }
 ],
 "metadata": {
  "kernelspec": {
   "display_name": "Python 3 (ipykernel)",
   "language": "python",
   "name": "python3"
  },
  "language_info": {
   "codemirror_mode": {
    "name": "ipython",
    "version": 3
   },
   "file_extension": ".py",
   "mimetype": "text/x-python",
   "name": "python",
   "nbconvert_exporter": "python",
   "pygments_lexer": "ipython3",
   "version": "3.9.5"
  }
 },
 "nbformat": 4,
 "nbformat_minor": 5
}
